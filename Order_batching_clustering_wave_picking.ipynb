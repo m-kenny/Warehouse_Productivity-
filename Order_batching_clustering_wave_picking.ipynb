{
  "nbformat": 4,
  "nbformat_minor": 0,
  "metadata": {
    "colab": {
      "name": "Order batching -clustering -wave picking.ipynb",
      "provenance": []
    },
    "kernelspec": {
      "name": "python3",
      "display_name": "Python 3"
    },
    "language_info": {
      "name": "python"
    }
  },
  "cells": [
    {
      "cell_type": "code",
      "metadata": {
        "id": "H19eRYq5EM4D"
      },
      "source": [
        "\n",
        "import numpy as np\n",
        "import pandas as pd\n",
        "from ast import literal_eval"
      ],
      "execution_count": null,
      "outputs": []
    },
    {
      "cell_type": "code",
      "metadata": {
        "id": "gygj-f2ZECyH"
      },
      "source": [
        "# Create Pivot Table Orderlines by Location\n",
        "def lines_locations(df_orderlines, filename):\n",
        "\n",
        "\t# Groupby \n",
        "\tdf_count = pd.DataFrame(df_orderlines.groupby(['Alley_Number', 'Cellule'])['Coord'].count()).reset_index()\n",
        "\tdf_pivot = pd.pivot_table(df_count, values='Coord', index=['Cellule'],\n",
        "\t                    columns=['Alley_Number'], aggfunc=np.sum).fillna(0)\n",
        "\t# Total \n",
        "\tlines_total = df_pivot.sum().sum()\n",
        "\tdf_pivot = df_pivot/lines_total\n",
        "\tdf_pivot.to_excel(filename)\n",
        "\n",
        "\treturn df_pivot"
      ],
      "execution_count": null,
      "outputs": []
    },
    {
      "cell_type": "code",
      "metadata": {
        "id": "VC0CUsy4EPxJ"
      },
      "source": [
        "\n",
        "from scipy.cluster.vq import kmeans2, whiten\n",
        "from scipy.spatial.distance import pdist\n",
        "from scipy.cluster.hierarchy import ward, fcluster\n",
        "from calculate_distance import dist_func\n",
        "from pre_processing import mono_order\n",
        "\n",
        "# 1. Clustering + Mapping\n",
        "def clustering_loc(df, distance_threshold, dist_method, orders_number, \n",
        "\twave_start, clust_start, df_type):\n",
        "\n",
        "\t# 1. Create Clusters\n",
        "\tlist_coord, list_OrderNumber, clust_id, df = cluster_wave(df, distance_threshold, 'custom', clust_start, df_type)\n",
        "\tclust_idmax = max(clust_id) # Last Cluster ID\n",
        "\n",
        "\t# 2. Mapping Order lines with clusters\n",
        "\tdict_map, dict_omap, df, Wave_max = lines_mapping_clst(df, list_coord, list_OrderNumber, clust_id, orders_number, wave_start)\n",
        "\n",
        "\treturn dict_map, dict_omap, df, Wave_max, clust_idmax\n",
        "\n",
        "# 2. Create Waves using Clusters\n",
        "def cluster_wave(df, distance_threshold, dist_method, clust_start, df_type):\n",
        "\n",
        "\t# Create Column for Clustering\n",
        "\tif df_type == 'df_mono':\n",
        "\t\tdf['Coord_Cluster'] = df['Coord'] \n",
        "\n",
        "\t# Mapping points\n",
        "\tdf_map = pd.DataFrame(df.groupby(['OrderNumber', 'Coord_Cluster'])['SKU'].count()).reset_index() \t# Here we use Coord Cluster\n",
        "\tlist_coord, list_OrderNumber = np.stack(df_map.Coord_Cluster.apply(lambda t: literal_eval(t)).values), df_map.OrderNumber.values\n",
        "\n",
        "\t# Cluster picking locations\n",
        "\tclust_id = cluster_locations(list_coord, distance_threshold, dist_method, clust_start)\n",
        "\tclust_id = [(i + clust_start) for i in clust_id]\n",
        "\n",
        "\t# List_coord\n",
        "\tlist_coord = np.stack(list_coord)\n",
        "\n",
        "\treturn list_coord, list_OrderNumber, clust_id, df\n",
        "\n",
        "# 3. Create clusters of (x, y)\n",
        "def cluster_locations(list_coord, distance_threshold, dist_method, clust_start):\n",
        "\n",
        "\t# Create linkage matrix\n",
        "\tif dist_method == 'euclidian':\n",
        "\t\tZ = ward(pdist(np.stack(list_coord)))\n",
        "\telse:\n",
        "\t\tZ = ward(pdist(np.stack(list_coord), metric = distance_func))\n",
        "\t# Single cluster array\n",
        "\tfclust1 = fcluster(Z, t = distance_threshold, criterion = 'distance')\n",
        "\n",
        "\treturn fclust1"
      ],
      "execution_count": null,
      "outputs": []
    },
    {
      "cell_type": "code",
      "metadata": {
        "id": "5Es_sx18ETJ0"
      },
      "source": [
        "# Mapping Order lines mapping with clustering \n",
        "def lines_mapping_clst(df, list_coord, list_OrderNumber, clust_id, orders_number, wave_start):\n",
        "\n",
        "\t# Dictionnary for mapping by cluster\n",
        "\tdict_map = dict(zip(list_OrderNumber, clust_id))\n",
        "\t# Dataframe mapping\n",
        "\tdf['ClusterID'] = df['OrderNumber'].map(dict_map)\n",
        "\t# Order by ID and mapping\n",
        "\tdf = df.sort_values(['ClusterID','OrderNumber'], ascending = True)\n",
        "\tlist_orders = list(df.OrderNumber.unique())\n",
        "\t# Dictionnary for order mapping \n",
        "\tdict_omap = dict(zip(list_orders, [i for i in range(1, len(list_orders))]))\n",
        "\t# Order ID mapping\n",
        "\tdf['OrderID'] = df['OrderNumber'].map(dict_omap)\n",
        "\n",
        "\t# Create Waves: Increment when reaching orders_number or changing cluster\n",
        "\tdf['WaveID'] = wave_start + ((df.OrderID%orders_number == 0) | (df.ClusterID.diff() != 0)).shift(1).fillna(0).cumsum() \n",
        "\tWave_max = df.WaveID.max()\n",
        "\n",
        "\treturn dict_map, dict_omap, df, Wave_max"
      ],
      "execution_count": null,
      "outputs": []
    },
    {
      "cell_type": "code",
      "metadata": {
        "id": "5IZ-eaBpEWBP"
      },
      "source": [
        "# Centroid function\n",
        "def centroid(list_in):\n",
        "    x, y = [p[0] for p in list_in], [p[1] for p in list_in]\n",
        "    centroid = [round(sum(x) / len(list_in),2), round(sum(y) / len(list_in), 2)]\n",
        "    return centroid\n",
        "\n",
        "# Mapping Centroids\n",
        "def centroid_mapping(df_multi):\n",
        "\n",
        "    # Mapping multi\n",
        "    df_multi['Coord'] = df_multi['Coord'].apply(literal_eval)\n",
        "    # Group coordinates per order\n",
        "    df_group = pd.DataFrame(df_multi.groupby(['OrderNumber'])['Coord'].apply(list)).reset_index()\n",
        "    # Calculate Centroid\n",
        "    df_group['Coord_Centroid'] = df_group['Coord'].apply(centroid)\n",
        "    # Dictionnary for mapping\n",
        "    list_order, list_coord = list(df_group.OrderNumber.values), list(df_group.Coord_Centroid.values)\n",
        "    dict_coord = dict(zip(list_order, list_coord))\n",
        "\n",
        "    # Final mapping\n",
        "    df_multi['Coord_Cluster'] = df_multi['OrderNumber'].map(dict_coord).astype(str)\n",
        "    df_multi['Coord'] = df_multi['Coord'].astype(str)\n",
        "\n",
        "    return df_multi"
      ],
      "execution_count": null,
      "outputs": []
    }
  ]
}