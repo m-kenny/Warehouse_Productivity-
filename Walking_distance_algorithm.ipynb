{
  "nbformat": 4,
  "nbformat_minor": 0,
  "metadata": {
    "colab": {
      "name": "Walking distance algorithm.ipynb",
      "provenance": []
    },
    "kernelspec": {
      "name": "python3",
      "display_name": "Python 3"
    },
    "language_info": {
      "name": "python"
    }
  },
  "cells": [
    {
      "cell_type": "code",
      "metadata": {
        "id": "YEb-CHb7DHMr"
      },
      "source": [
        "import numpy as np\n",
        "import pandas as pd\n",
        "from ast import literal_eval\n",
        "import itertools\n",
        "\n"
      ],
      "execution_count": null,
      "outputs": []
    },
    {
      "cell_type": "markdown",
      "metadata": {
        "id": "-ms3t-diDAfh"
      },
      "source": [
        "# Distance calc"
      ]
    },
    {
      "cell_type": "code",
      "metadata": {
        "id": "zqRkAkZjC_p7"
      },
      "source": [
        "\n",
        "\n",
        "# Calculate Picker Route Distance between two locations\n",
        "def distance_picking(Loc1, Loc2, y_low, y_high):\n",
        "\n",
        "    # Start Point\n",
        "    x1, y1 = Loc1[0], Loc1[1]\n",
        "    # End Point\n",
        "    x2, y2 = Loc2[0], Loc2[1]\n",
        "    # Distance x-axis\n",
        "    distance_x = abs(x2 - x1)\n",
        "    # Distance y-axis\n",
        "    if x1 == x2:\n",
        "        distance_y1 = abs(y2 - y1)\n",
        "        distance_y2 = distance_y1\n",
        "    else:\n",
        "        distance_y1 = (y_high - y1) + (y_high - y2)\n",
        "        distance_y2 = (y1 - y_low) + (y2 - y_low)\n",
        "    # Minimum distance on y-axis \n",
        "    distance_y = min(distance_y1, distance_y2)    \n",
        "    # Total distance\n",
        "    distance = distance_x + distance_y\n",
        "\n",
        "    return distance"
      ],
      "execution_count": null,
      "outputs": []
    },
    {
      "cell_type": "markdown",
      "metadata": {
        "id": "HyOQLFiKDLtB"
      },
      "source": [
        "## find next closest locations"
      ]
    },
    {
      "cell_type": "code",
      "metadata": {
        "id": "IXHLSRiyDKyH"
      },
      "source": [
        "# Find closest next location \n",
        "def next_location(start_loc, list_locs, y_low, y_high):\n",
        "\n",
        "    # Distance to every next points candidate\n",
        "    list_dist = [distance_picking(start_loc, i, y_low, y_high) for i in list_locs]\n",
        "    # Minimum Distance \n",
        "    distance_next = min(list_dist)\n",
        "    # Location of minimum distance\n",
        "    index_min = list_dist.index(min(list_dist))\n",
        "    next_loc = list_locs[index_min] # Next location is the first location with distance = min (**)\n",
        "    list_locs.remove(next_loc)      # Next location is removed from the list of candidates\n",
        "    \n",
        "    return list_locs, start_loc, next_loc, distance_next"
      ],
      "execution_count": null,
      "outputs": []
    },
    {
      "cell_type": "markdown",
      "metadata": {
        "id": "QQq-6nDUDSYB"
      },
      "source": [
        "## Create your picking route and calculate the total walking distance"
      ]
    },
    {
      "cell_type": "code",
      "metadata": {
        "id": "fKHSd2W2DTpf"
      },
      "source": [
        "# Calculate total distance to cover for a list of locations\n",
        "def create_picking_route(origin_loc, list_locs, y_low, y_high):\n",
        "\n",
        "    # Total distance variable\n",
        "    wave_distance = 0\n",
        "    # Current location variable \n",
        "    start_loc = origin_loc\n",
        "    # Store routes\n",
        "    list_chemin = []\n",
        "    list_chemin.append(start_loc)\n",
        "    \n",
        "    while len(list_locs) > 0: # Looping until all locations are picked\n",
        "        # Going to next location\n",
        "        list_locs, start_loc, next_loc, distance_next = next_location(start_loc, list_locs, y_low, y_high)\n",
        "        # Update start_loc \n",
        "        start_loc = next_loc\n",
        "        list_chemin.append(start_loc)\n",
        "        # Update distance\n",
        "        wave_distance = wave_distance + distance_next \n",
        "\n",
        "    # Final distance from last storage location to origin\n",
        "    wave_distance = wave_distance + distance_picking(start_loc, origin_loc, y_low, y_high)\n",
        "    list_chemin.append(origin_loc)\n",
        "    \n",
        "    return wave_distance, list_chemin"
      ],
      "execution_count": 1,
      "outputs": []
    },
    {
      "cell_type": "markdown",
      "metadata": {
        "id": "CjLVJq12DeYp"
      },
      "source": [
        "# Mapping orders by wave number "
      ]
    },
    {
      "cell_type": "code",
      "metadata": {
        "id": "VabHsB19DV7S"
      },
      "source": [
        "# Mapping orders by wave number \n",
        "def orderlines_mapping(df_orderlines, orders_number):\n",
        "\n",
        "\t# Order dataframe by timeframe\n",
        "\tdf_orderlines = df_orderlines.sort_values(by='TimeStamp', ascending = True)\n",
        "\t# Unique order numbers list\n",
        "\tlist_orders = df_orderlines.OrderNumber.unique()\n",
        "\t# Dictionnary for mapping\n",
        "\tdict_map = dict(zip(list_orders, [i for i in range(1, len(list_orders))]))\n",
        "\t# Order ID mapping\n",
        "\tdf_orderlines['OrderID'] = df_orderlines['OrderNumber'].map(dict_map)\n",
        "\t# Grouping Orders by Wave of orders_number \n",
        "\tdf_orderlines['WaveID'] = (df_orderlines.OrderID%orders_number == 0).shift(1).fillna(0).cumsum()\n",
        "\t# Counting number of Waves\n",
        "\twaves_number = df_orderlines.WaveID.max() + 1\n",
        "\n",
        "\treturn df_orderlines, waves_number"
      ],
      "execution_count": null,
      "outputs": []
    },
    {
      "cell_type": "code",
      "metadata": {
        "id": "P8hu_5u0Dh8R"
      },
      "source": [
        "\n",
        "# Getting storage locations to cover for a wave of orders\n",
        "def locations_listing(df_orderlines, wave_id):\n",
        "\n",
        "\t# Filter by wave_id\n",
        "\tdf = df_orderlines[df_orderlines.WaveID == wave_id]\n",
        "\t# Create coordinates listing\n",
        "\tlist_locs = list(df['Coord'].apply(lambda t: literal_eval(t)).values)\n",
        "\tlist_locs.sort()\n",
        "\t# Get unique Unique coordinates\n",
        "\tlist_locs = list(k for k,_ in itertools.groupby(list_locs))\n",
        "\tn_locs = len(list_locs)\n",
        "\n",
        "\treturn list_locs, n_locs"
      ],
      "execution_count": null,
      "outputs": []
    },
    {
      "cell_type": "markdown",
      "metadata": {
        "id": "itjTHW1BDn7V"
      },
      "source": [
        "# Main"
      ]
    },
    {
      "cell_type": "code",
      "metadata": {
        "id": "i949N-2dDok-"
      },
      "source": [
        "\n",
        "import numpy as np\n",
        "import pandas as pd\n",
        "from calculate_distance import distance_picking, next_location, create_picking_route\n",
        "from wave_creation import orderlines_mapping, locations_listing\n",
        "from pre_processing import import_dataset\n",
        "\n",
        "# Import dataframe with orderlines\n",
        "df_orderlines = import_dataset('df_mois12-2018-P.xlsx')\n",
        "\n",
        "# Parameters\n",
        "y_low, y_high = 5.5, 50 \t\t# Alley Coordinates on y-axis\n",
        "Loc_orn = [0, y_low] \t\t\t# Origin Location\n",
        "orders_number = 3 \t\t\t# Number of orders per wave\n",
        "\n",
        "# Create lists to store results\n",
        "list_wid, list_dst, list_route, list_ord = [], [], [], []\n",
        "\n",
        "# Function \n",
        "def simulation_wave(y_low, y_high, orders_number, df_orderlines, list_wid, list_dst, list_route, list_ord):\n",
        "\n",
        "\t# Create variable to store total distance\n",
        "\tdistance_route = 0 \n",
        "\t# Create waves\n",
        "\tdf_orderlines, waves_number = orderlines_mapping(df_orderlines, orders_number)\n",
        "\t# Loop all waves\n",
        "\tfor wave_id in range(waves_number):\n",
        "\t\t# Listing of all locations for this wave \n",
        "\t\tlist_locs, n_locs = locations_listing(df_orderlines, wave_id)\n",
        "\t\t# Results\n",
        "\t\twave_distance, list_chemin = create_picking_route(Loc_orn, list_locs, y_low, y_high)\n",
        "\t\tdistance_route = distance_route + wave_distance\n",
        "\t\t# Append lists of results \n",
        "\t\tlist_wid.append(wave_id)\n",
        "\t\tlist_dst.append(wave_distance)\n",
        "\t\tlist_route.append(list_chemin)\n",
        "\t\tlist_ord.append(orders_number)\n",
        "\n",
        "\treturn list_wid, list_dst, list_route, list_ord, distance_route\n",
        "\n",
        "# Test several values of orders per wave\n",
        "for orders_number in range(1, 10):\n",
        "\tlist_wid, list_dst, list_route, list_ord, distance_route = simulation_wave(y_low, y_high, orders_number, df_orderlines, list_wid, list_dst, list_route, list_ord)\n",
        "\tprint(\"Total distance covered for {} orders/wave: {:,} m\".format(orders_number, distance_route))\n",
        "\n",
        "# Create df for results\n",
        "df_results = pd.DataFrame({'Wave_Number': list_wid,\n",
        "\t\t\t   'Distance_Route': list_dst,\n",
        "\t\t\t   'Chemins': list_route,\n",
        "\t\t\t   'OrderPerWave': list_ord})\n",
        "\n",
        "print(df_results.head())"
      ],
      "execution_count": null,
      "outputs": []
    }
  ]
}